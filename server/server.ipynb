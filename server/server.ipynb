{
 "cells": [
  {
   "cell_type": "code",
   "execution_count": 1,
   "metadata": {},
   "outputs": [
    {
     "name": "stderr",
     "output_type": "stream",
     "text": [
      "2022-10-30 11:51:34.517214: I tensorflow/core/platform/cpu_feature_guard.cc:193] This TensorFlow binary is optimized with oneAPI Deep Neural Network Library (oneDNN) to use the following CPU instructions in performance-critical operations:  AVX2 FMA\n",
      "To enable them in other operations, rebuild TensorFlow with the appropriate compiler flags.\n"
     ]
    },
    {
     "name": "stdout",
     "output_type": "stream",
     "text": [
      "2.10.0\n"
     ]
    }
   ],
   "source": [
    "import os\n",
    "import cv2 \n",
    "import numpy as np\n",
    "import mediapipe as mp\n",
    "import time\n",
    "from tensorflow import keras\n",
    "import tensorflow\n",
    "# import keras\n",
    "from tensorflow.keras import layers\n",
    "from sklearn.model_selection import train_test_split\n",
    "from sklearn.metrics import confusion_matrix, accuracy_score\n",
    "from tensorflow.keras.utils import to_categorical\n",
    "from tensorflow.keras.models import Sequential\n",
    "from tensorflow.keras.callbacks import TensorBoard\n",
    "mp_holistic = mp.solutions.holistic # Holistic model to detect keypoints\n",
    "mp_drawing = mp.solutions.drawing_utils # Drawing utilities)\n",
    "print(keras.__version__)\n",
    "# print(keras2.__version__)"
   ]
  },
  {
   "cell_type": "code",
   "execution_count": 2,
   "metadata": {},
   "outputs": [
    {
     "data": {
      "text/plain": [
       "{'Left_punch': 0, 'kiss': 1, 'no_action': 2, 'Right_punch': 3, 'Wakanda': 4}"
      ]
     },
     "execution_count": 2,
     "metadata": {},
     "output_type": "execute_result"
    }
   ],
   "source": [
    "actions = np.array([\"Left_punch\",\"kiss\",\"no_action\",\"Right_punch\",\"Wakanda\"])\n",
    "augmentations = [\"CW Rotate 15\",\"CCW Rotate 15\",\"Left\",\"Right\",\"Zoom In\",\"Zoom Out\"]\n",
    "label_map = {label:idx for idx,label in enumerate(actions)}\n",
    "label_map"
   ]
  },
  {
   "cell_type": "code",
   "execution_count": 2,
   "metadata": {},
   "outputs": [],
   "source": [
    "def keypointsToNumPy(results):\n",
    "    pose_landmarks = np.array([[l.x,l.y,l.z,l.visibility] for l in results.pose_landmarks.landmark])\n",
    "    lefthand_landmarks = np.array([[l.x,l.y,l.z] for l in results.left_hand_landmarks.landmark]) if results.left_hand_landmarks and len(results.left_hand_landmarks.landmark)>0 else np.zeros(21*3)\n",
    "    righthand_landmarks = np.array([[l.x,l.y,l.z] for l in results.right_hand_landmarks.landmark]) if results.right_hand_landmarks and len(results.right_hand_landmarks.landmark)>0 else np.zeros(21*3)\n",
    "    landmarks = np.concatenate([pose_landmarks.flatten(),lefthand_landmarks.flatten(),righthand_landmarks.flatten()])\n",
    "    return landmarks"
   ]
  },
  {
   "cell_type": "code",
   "execution_count": 1,
   "metadata": {},
   "outputs": [
    {
     "ename": "NameError",
     "evalue": "name 'keras' is not defined",
     "output_type": "error",
     "traceback": [
      "\u001b[0;31m---------------------------------------------------------------------------\u001b[0m",
      "\u001b[0;31mNameError\u001b[0m                                 Traceback (most recent call last)",
      "\u001b[0;32m/var/folders/lb/czvphg4j7md8_0znt29m83qc0000gn/T/ipykernel_56301/565372755.py\u001b[0m in \u001b[0;36m<module>\u001b[0;34m\u001b[0m\n\u001b[0;32m----> 1\u001b[0;31m \u001b[0mmodel\u001b[0m \u001b[0;34m=\u001b[0m \u001b[0mkeras\u001b[0m\u001b[0;34m.\u001b[0m\u001b[0mmodels\u001b[0m\u001b[0;34m.\u001b[0m\u001b[0mload_model\u001b[0m\u001b[0;34m(\u001b[0m\u001b[0;34m'transformer.h5'\u001b[0m\u001b[0;34m)\u001b[0m\u001b[0;34m\u001b[0m\u001b[0;34m\u001b[0m\u001b[0m\n\u001b[0m\u001b[1;32m      2\u001b[0m \u001b[0mframes\u001b[0m \u001b[0;34m=\u001b[0m \u001b[0;34m[\u001b[0m\u001b[0;34m]\u001b[0m\u001b[0;34m\u001b[0m\u001b[0;34m\u001b[0m\u001b[0m\n",
      "\u001b[0;31mNameError\u001b[0m: name 'keras' is not defined"
     ]
    }
   ],
   "source": [
    "model = keras.models.load_model('transformer.h5')\n",
    "frames = []"
   ]
  },
  {
   "cell_type": "code",
   "execution_count": 4,
   "metadata": {},
   "outputs": [],
   "source": [
    "#!/usr/bin/env python\n",
    "\n",
    "import asyncio\n",
    "import websockets\n",
    "import json\n",
    "from attrdict import AttrDict\n",
    "\n",
    "def keypointsToNumPy(results):\n",
    "    pose_landmarks = np.array([[l.x,l.y,l.z,l.visibility] for l in results.pose_landmarks.landmark])\n",
    "    lefthand_landmarks = np.array([[l.x,l.y,l.z] for l in results.left_hand_landmarks.landmark]) if results.left_hand_landmarks and len(results.left_hand_landmarks.landmark)>0 else np.zeros(21*3)\n",
    "    righthand_landmarks = np.array([[l.x,l.y,l.z] for l in results.right_hand_landmarks.landmark]) if results.right_hand_landmarks and len(results.right_hand_landmarks.landmark)>0 else np.zeros(21*3)\n",
    "    landmarks = np.concatenate([pose_landmarks.flatten(),lefthand_landmarks.flatten(),righthand_landmarks.flatten()])\n",
    "    return landmarks\n",
    "\n",
    "\n",
    "async def echo(websocket):\n",
    "    frames = []\n",
    "    async for message in websocket:\n",
    "        # print(message)\n",
    "        try:\n",
    "            y = json.loads(message)\n",
    "            results = AttrDict({\n",
    "                \"pose_landmarks\":{\n",
    "                    \"landmark\":[]\n",
    "                },\n",
    "                \"left_hand_landmarks\":{\n",
    "                    \"landmark\":[]\n",
    "                },\n",
    "                \"right_hand_landmarks\":{\n",
    "                    \"landmark\":[]\n",
    "                }\n",
    "            })\n",
    "            results[\"pose_landmarks\"][\"landmark\"] = y[\"poseLandmarks\"]\n",
    "            if \"leftHandLandmarks\" in y:\n",
    "                results[\"left_hand_landmarks\"][\"landmark\"] = y[\"leftHandLandmarks\"]\n",
    "            if \"rightHandLandmarks\" in y:\n",
    "                results[\"right_hand_landmarks\"][\"landmark\"] = y[\"rightHandLandmarks\"]\n",
    "            keypoints = keypointsToNumPy(results)\n",
    "            frames.append(keypoints)\n",
    "            # just get last 6 frames\n",
    "            frames = frames[-6:]\n",
    "            if len(frames) == 6:\n",
    "                a = np.array(frames)\n",
    "                # convert it to proper input (1,30,258)\n",
    "                print(np.expand_dims(frames,axis=0).shape)\n",
    "                # get the first prediction as we only pass one into it\n",
    "                r = model.predict(np.expand_dims(frames,axis=0))[0]\n",
    "                # r[r<0.5] = 0\n",
    "                # print(actions[np.argmax(r)])\n",
    "                j = {\n",
    "                    \"action\": actions[np.argmax(r)],\n",
    "                    \"accuracy\": r\n",
    "                }\n",
    "                # await websocket.send(actions[np.argmax(r)] + \",\" + str(r))\n",
    "                await websocket.send(json.dumps(j, separators=(',', ':')))\n",
    "        except Exception as e:\n",
    "            print(e)\n",
    "        # await websocket.send(message + \"server\")\n",
    "\n",
    "async def main():\n",
    "    async with websockets.serve(echo, \"localhost\", 8765):\n",
    "        await asyncio.Future()  # run forever\n",
    "\n",
    "await main()"
   ]
  }
 ],
 "metadata": {
  "kernelspec": {
   "display_name": "Python 3.7.13 ('psupr')",
   "language": "python",
   "name": "python3"
  },
  "language_info": {
   "codemirror_mode": {
    "name": "ipython",
    "version": 3
   },
   "file_extension": ".py",
   "mimetype": "text/x-python",
   "name": "python",
   "nbconvert_exporter": "python",
   "pygments_lexer": "ipython3",
   "version": "3.7.13"
  },
  "orig_nbformat": 4,
  "vscode": {
   "interpreter": {
    "hash": "9cff8dca6ddb8d9bfe57d04842b45276a848a5ef5b62e0470e5a9e5103929e46"
   }
  }
 },
 "nbformat": 4,
 "nbformat_minor": 2
}
