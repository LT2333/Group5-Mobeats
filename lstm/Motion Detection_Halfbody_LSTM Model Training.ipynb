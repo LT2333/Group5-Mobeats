{
 "cells": [
  {
   "cell_type": "code",
   "execution_count": 1,
   "id": "7a49436e",
   "metadata": {},
   "outputs": [],
   "source": [
    "import cv2\n",
    "import numpy as np\n",
    "import os\n",
    "from matplotlib import pyplot as plt\n",
    "import time\n",
    "import mediapipe as mp"
   ]
  },
  {
   "cell_type": "markdown",
   "id": "429f3fc6",
   "metadata": {},
   "source": [
    "# Keypoint Detection"
   ]
  },
  {
   "cell_type": "code",
   "execution_count": 2,
   "id": "8b4a15c4",
   "metadata": {},
   "outputs": [],
   "source": [
    "mp_holistic = mp.solutions.holistic # Holistic model\n",
    "mp_drawing = mp.solutions.drawing_utils # Drawing utilities"
   ]
  },
  {
   "cell_type": "code",
   "execution_count": 3,
   "id": "f5d4f1bb",
   "metadata": {},
   "outputs": [],
   "source": [
    "def mediapipe_detection(image, model):\n",
    "    image = cv2.cvtColor(image, cv2.COLOR_BGR2RGB) # COLOR CONVERSION BGR 2 RGB 转换颜色通道\n",
    "    image.flags.writeable = False                  # Image is no longer writeable\n",
    "    results = model.process(image)                 # Make prediction\n",
    "    image.flags.writeable = True                   # Image is now writeable \n",
    "    image = cv2.cvtColor(image, cv2.COLOR_RGB2BGR) # COLOR COVERSION RGB 2 BGR\n",
    "    return image, results"
   ]
  },
  {
   "cell_type": "code",
   "execution_count": 4,
   "id": "1769dfbe",
   "metadata": {},
   "outputs": [],
   "source": [
    "def draw_landmarks(image, results): # Can comment face and hand part\n",
    "    mp_drawing.draw_landmarks(image, results.face_landmarks, mp_holistic.FACEMESH_TESSELATION) # Draw face connections 新版本有更新FACEMESH_TESSELATION\n",
    "    mp_drawing.draw_landmarks(image, results.pose_landmarks, mp_holistic.POSE_CONNECTIONS) # Draw pose connections\n",
    "    mp_drawing.draw_landmarks(image, results.left_hand_landmarks, mp_holistic.HAND_CONNECTIONS) # Draw left hand connections\n",
    "    mp_drawing.draw_landmarks(image, results.right_hand_landmarks, mp_holistic.HAND_CONNECTIONS) # Draw right hand connections"
   ]
  },
  {
   "cell_type": "code",
   "execution_count": 5,
   "id": "f4f4c8ec",
   "metadata": {},
   "outputs": [],
   "source": [
    "def draw_styled_landmarks(image, results): # 给连线添加属性 如果没加 就是绿色的\n",
    "    # Draw face connections\n",
    "    mp_drawing.draw_landmarks(image, results.face_landmarks, mp_holistic.FACEMESH_TESSELATION,  # FACE_CONNECTIONS -> FACEMESH_TESSELATION\n",
    "                             mp_drawing.DrawingSpec(color=(80,110,10), thickness=1, circle_radius=1), \n",
    "                             mp_drawing.DrawingSpec(color=(80,256,121), thickness=1, circle_radius=1)\n",
    "                             ) \n",
    "    # Draw pose connections\n",
    "    mp_drawing.draw_landmarks(image, results.pose_landmarks, mp_holistic.POSE_CONNECTIONS,\n",
    "                             mp_drawing.DrawingSpec(color=(80,22,10), thickness=2, circle_radius=4), \n",
    "                             mp_drawing.DrawingSpec(color=(80,44,121), thickness=2, circle_radius=2)\n",
    "                             ) \n",
    "    # Draw left hand connections\n",
    "    mp_drawing.draw_landmarks(image, results.left_hand_landmarks, mp_holistic.HAND_CONNECTIONS, \n",
    "                             mp_drawing.DrawingSpec(color=(121,22,76), thickness=2, circle_radius=4), \n",
    "                             mp_drawing.DrawingSpec(color=(121,44,250), thickness=2, circle_radius=2)\n",
    "                             ) \n",
    "    # Draw right hand connections  \n",
    "    mp_drawing.draw_landmarks(image, results.right_hand_landmarks, mp_holistic.HAND_CONNECTIONS, \n",
    "                             mp_drawing.DrawingSpec(color=(245,117,66), thickness=2, circle_radius=4), \n",
    "                             mp_drawing.DrawingSpec(color=(245,66,230), thickness=2, circle_radius=2)\n",
    "                             ) "
   ]
  },
  {
   "cell_type": "code",
   "execution_count": 6,
   "id": "a036502b",
   "metadata": {},
   "outputs": [],
   "source": [
    "def extract_keypoints(results): # Can comment face and hand part\n",
    "    pose = np.array([[res.x, res.y, res.z, res.visibility] for res in results.pose_landmarks.landmark]).flatten() if results.pose_landmarks else np.zeros(33*4)\n",
    "    face = np.array([[res.x, res.y, res.z] for res in results.face_landmarks.landmark]).flatten() if results.face_landmarks else np.zeros(468*3)\n",
    "    lh = np.array([[res.x, res.y, res.z] for res in results.left_hand_landmarks.landmark]).flatten() if results.left_hand_landmarks else np.zeros(21*3)\n",
    "    rh = np.array([[res.x, res.y, res.z] for res in results.right_hand_landmarks.landmark]).flatten() if results.right_hand_landmarks else np.zeros(21*3)\n",
    "    return np.concatenate([pose, face, lh, rh]) # ([pose, face, lh, rh])"
   ]
  },
  {
   "cell_type": "markdown",
   "id": "dcdb95ce",
   "metadata": {},
   "source": [
    "# Setup Folders for Collection"
   ]
  },
  {
   "cell_type": "code",
   "execution_count": 7,
   "id": "1709abc5",
   "metadata": {},
   "outputs": [],
   "source": [
    "motions = np.array(['Left_punch', 'Right_punch', 'Wakanda', 'Kiss', 'No_action'])\n",
    "DATA_PATH_TR = os.path.join('Train Data') # path of keypoint detection file of training data\n",
    "DATA_PATH_TE = os.path.join('Test Data') # path of keypoint detection file of test data\n",
    "\n",
    "# Thirty videos worth of data\n",
    "no_sequences = 60\n",
    "\n",
    "# Videos are going to be 30 frames in length 每个video只有30帧\n",
    "sequence_length = 30\n"
   ]
  },
  {
   "cell_type": "code",
   "execution_count": 8,
   "id": "6510447f",
   "metadata": {},
   "outputs": [],
   "source": [
    "# 创建空文件夹 放training result\n",
    "for motion in motions: \n",
    "    for sequence in range(no_sequences):\n",
    "        try: \n",
    "            os.makedirs(os.path.join(DATA_PATH_TR, motion, str(sequence)))\n",
    "        except:\n",
    "            pass"
   ]
  },
  {
   "cell_type": "code",
   "execution_count": 9,
   "id": "215036e1",
   "metadata": {},
   "outputs": [],
   "source": [
    "# 创建空文件夹 放test result\n",
    "for motion in motions: \n",
    "    for sequence in range(no_sequences):\n",
    "        try: \n",
    "            os.makedirs(os.path.join(DATA_PATH_TE, motion, str(sequence)))\n",
    "        except:\n",
    "            pass"
   ]
  },
  {
   "cell_type": "markdown",
   "id": "8f021613",
   "metadata": {},
   "source": [
    "# Preprocess Data and Create Labels and Features"
   ]
  },
  {
   "cell_type": "code",
   "execution_count": 10,
   "id": "1d5a2735",
   "metadata": {},
   "outputs": [],
   "source": [
    "from sklearn.model_selection import train_test_split\n",
    "from tensorflow.keras.utils import to_categorical"
   ]
  },
  {
   "cell_type": "code",
   "execution_count": 11,
   "id": "f4058e47",
   "metadata": {},
   "outputs": [
    {
     "data": {
      "text/plain": [
       "{'Left_punch': 0, 'Right_punch': 1, 'Wakanda': 2, 'Kiss': 3, 'No_action': 4}"
      ]
     },
     "execution_count": 11,
     "metadata": {},
     "output_type": "execute_result"
    }
   ],
   "source": [
    "label_map = {label:num for num, label in enumerate(motions)} # 标记\n",
    "label_map"
   ]
  },
  {
   "cell_type": "code",
   "execution_count": 12,
   "id": "630ed940",
   "metadata": {},
   "outputs": [],
   "source": [
    "# Label Training\n",
    "sequences_tr, labels_tr = [], []\n",
    "for motion in motions:\n",
    "    for sequence in range(no_sequences):\n",
    "        window = []\n",
    "        for frame_num in range(sequence_length):\n",
    "            res = np.load(os.path.join(DATA_PATH_TR, motion, str(sequence), \"{}.npy\".format(frame_num)))\n",
    "            window.append(res)\n",
    "        sequences_tr.append(window)\n",
    "        labels_tr.append(label_map[motion])"
   ]
  },
  {
   "cell_type": "code",
   "execution_count": 13,
   "id": "ce7357c2",
   "metadata": {},
   "outputs": [
    {
     "data": {
      "text/plain": [
       "(300, 30, 1662)"
      ]
     },
     "execution_count": 13,
     "metadata": {},
     "output_type": "execute_result"
    }
   ],
   "source": [
    "np.array(sequences_tr).shape"
   ]
  },
  {
   "cell_type": "code",
   "execution_count": 14,
   "id": "78969b55",
   "metadata": {},
   "outputs": [
    {
     "data": {
      "text/plain": [
       "array([[[ 0.56965178,  0.4239459 , -0.66189039, ...,  0.26775014,\n",
       "          0.40062836, -0.0095846 ],\n",
       "        [ 0.56917012,  0.42344251, -0.67857957, ...,  0.        ,\n",
       "          0.        ,  0.        ],\n",
       "        [ 0.5704419 ,  0.42119929, -0.69409841, ...,  0.        ,\n",
       "          0.        ,  0.        ],\n",
       "        ...,\n",
       "        [ 0.585338  ,  0.487075  , -0.49890375, ...,  0.58038151,\n",
       "          0.16793673, -0.01776336],\n",
       "        [ 0.58453238,  0.48704046, -0.51928991, ...,  0.58108544,\n",
       "          0.1676418 , -0.01764237],\n",
       "        [ 0.58437073,  0.48876828, -0.51297081, ...,  0.58020502,\n",
       "          0.16882469, -0.01647672]],\n",
       "\n",
       "       [[ 0.58433306,  0.48860899, -0.51977932, ...,  0.57913691,\n",
       "          0.16615479, -0.01717638],\n",
       "        [ 0.58705252,  0.46488664, -0.55980641, ...,  0.        ,\n",
       "          0.        ,  0.        ],\n",
       "        [ 0.58942986,  0.46106309, -0.57517403, ...,  0.        ,\n",
       "          0.        ,  0.        ],\n",
       "        ...,\n",
       "        [ 0.58355945,  0.47699508, -0.38966846, ...,  0.58089542,\n",
       "          0.12221108, -0.01336306],\n",
       "        [ 0.58379948,  0.4803701 , -0.36708122, ...,  0.58044881,\n",
       "          0.12278479, -0.01409708],\n",
       "        [ 0.58399767,  0.48172331, -0.37217057, ...,  0.5795601 ,\n",
       "          0.1233111 , -0.01422655]],\n",
       "\n",
       "       [[ 0.58431482,  0.48380417, -0.38199005, ...,  0.57782322,\n",
       "          0.12326515, -0.01429023],\n",
       "        [ 0.58441347,  0.48304278, -0.5842756 , ...,  0.        ,\n",
       "          0.        ,  0.        ],\n",
       "        [ 0.58570629,  0.48336315, -0.61308002, ...,  0.        ,\n",
       "          0.        ,  0.        ],\n",
       "        ...,\n",
       "        [ 0.58318961,  0.48890251, -0.3510465 , ...,  0.57825506,\n",
       "          0.13821134, -0.0124671 ],\n",
       "        [ 0.58366859,  0.48892239, -0.34242454, ...,  0.58788157,\n",
       "          0.13395855,  0.00298471],\n",
       "        [ 0.58384567,  0.48919308, -0.35456941, ...,  0.58337051,\n",
       "          0.14003113, -0.01704489]],\n",
       "\n",
       "       ...,\n",
       "\n",
       "       [[ 0.58568347,  0.3592982 , -0.52943146, ...,  0.        ,\n",
       "          0.        ,  0.        ],\n",
       "        [ 0.57173395,  0.37424028, -0.55226123, ...,  0.        ,\n",
       "          0.        ,  0.        ],\n",
       "        [ 0.56691039,  0.38121688, -0.5619275 , ...,  0.        ,\n",
       "          0.        ,  0.        ],\n",
       "        ...,\n",
       "        [ 0.56579268,  0.39732057, -0.5549773 , ...,  0.        ,\n",
       "          0.        ,  0.        ],\n",
       "        [ 0.56634301,  0.39690974, -0.56327885, ...,  0.        ,\n",
       "          0.        ,  0.        ],\n",
       "        [ 0.56700146,  0.39668405, -0.56209785, ...,  0.        ,\n",
       "          0.        ,  0.        ]],\n",
       "\n",
       "       [[ 0.56763959,  0.39622608, -0.56024468, ...,  0.        ,\n",
       "          0.        ,  0.        ],\n",
       "        [ 0.57050145,  0.39600417, -0.5588994 , ...,  0.        ,\n",
       "          0.        ,  0.        ],\n",
       "        [ 0.5723837 ,  0.39558926, -0.55098146, ...,  0.        ,\n",
       "          0.        ,  0.        ],\n",
       "        ...,\n",
       "        [ 0.57633132,  0.39457956, -0.57077229, ...,  0.        ,\n",
       "          0.        ,  0.        ],\n",
       "        [ 0.5769574 ,  0.39403999, -0.56022459, ...,  0.        ,\n",
       "          0.        ,  0.        ],\n",
       "        [ 0.57803345,  0.39354303, -0.56178093, ...,  0.        ,\n",
       "          0.        ,  0.        ]],\n",
       "\n",
       "       [[ 0.57911289,  0.39312619, -0.56251788, ...,  0.        ,\n",
       "          0.        ,  0.        ],\n",
       "        [ 0.5805819 ,  0.39294669, -0.58027643, ...,  0.        ,\n",
       "          0.        ,  0.        ],\n",
       "        [ 0.58141023,  0.39285669, -0.61470598, ...,  0.        ,\n",
       "          0.        ,  0.        ],\n",
       "        ...,\n",
       "        [ 0.58258069,  0.39144468, -0.56376588, ...,  0.        ,\n",
       "          0.        ,  0.        ],\n",
       "        [ 0.58260226,  0.39151001, -0.56172734, ...,  0.        ,\n",
       "          0.        ,  0.        ],\n",
       "        [ 0.58251262,  0.39149716, -0.55719543, ...,  0.        ,\n",
       "          0.        ,  0.        ]]])"
      ]
     },
     "execution_count": 14,
     "metadata": {},
     "output_type": "execute_result"
    }
   ],
   "source": [
    "X = np.array(sequences_tr)\n",
    "X_train = X\n",
    "X_train"
   ]
  },
  {
   "cell_type": "code",
   "execution_count": 15,
   "id": "f9ea62f4",
   "metadata": {},
   "outputs": [
    {
     "data": {
      "text/plain": [
       "array([[1, 0, 0, 0, 0],\n",
       "       [1, 0, 0, 0, 0],\n",
       "       [1, 0, 0, 0, 0],\n",
       "       ...,\n",
       "       [0, 0, 0, 0, 1],\n",
       "       [0, 0, 0, 0, 1],\n",
       "       [0, 0, 0, 0, 1]])"
      ]
     },
     "execution_count": 15,
     "metadata": {},
     "output_type": "execute_result"
    }
   ],
   "source": [
    "y = to_categorical(labels_tr).astype(int)\n",
    "y_train = y\n",
    "y_train"
   ]
  },
  {
   "cell_type": "code",
   "execution_count": 16,
   "id": "105a356b",
   "metadata": {},
   "outputs": [],
   "source": [
    "# X_train, X_test, y_train, y_test = train_test_split(X, y, test_size=0.05)  # when no test data"
   ]
  },
  {
   "cell_type": "code",
   "execution_count": 17,
   "id": "6f3019c2",
   "metadata": {},
   "outputs": [],
   "source": [
    "# Label Test\n",
    "sequences_te, labels_te = [], []\n",
    "for motion in motions:\n",
    "    for sequence in range(no_sequences):\n",
    "        window = []\n",
    "        for frame_num in range(sequence_length):\n",
    "            res = np.load(os.path.join(DATA_PATH_TE, motion, str(sequence), \"{}.npy\".format(frame_num)))\n",
    "            window.append(res)\n",
    "        sequences_te.append(window)\n",
    "        labels_te.append(label_map[motion])"
   ]
  },
  {
   "cell_type": "code",
   "execution_count": 18,
   "id": "25497b65",
   "metadata": {},
   "outputs": [
    {
     "data": {
      "text/plain": [
       "(300, 30, 1662)"
      ]
     },
     "execution_count": 18,
     "metadata": {},
     "output_type": "execute_result"
    }
   ],
   "source": [
    "np.array(sequences_te).shape"
   ]
  },
  {
   "cell_type": "code",
   "execution_count": 19,
   "id": "bbfdc1e8",
   "metadata": {},
   "outputs": [
    {
     "data": {
      "text/plain": [
       "array([[[ 5.83363175e-01,  3.76571357e-01, -7.27916896e-01, ...,\n",
       "          2.63510078e-01,  3.05761844e-01, -1.81312058e-02],\n",
       "        [ 5.63764632e-01,  4.35476333e-01, -7.53016591e-01, ...,\n",
       "          0.00000000e+00,  0.00000000e+00,  0.00000000e+00],\n",
       "        [ 5.58668196e-01,  4.42808837e-01, -8.72204781e-01, ...,\n",
       "          0.00000000e+00,  0.00000000e+00,  0.00000000e+00],\n",
       "        ...,\n",
       "        [ 5.73002517e-01,  4.67426777e-01, -5.44317067e-01, ...,\n",
       "          5.28269291e-01,  9.07387584e-02, -2.19796188e-02],\n",
       "        [ 5.72816312e-01,  4.65861052e-01, -5.46198606e-01, ...,\n",
       "          5.26825011e-01,  9.24358740e-02, -2.25990899e-02],\n",
       "        [ 5.70983469e-01,  4.65831339e-01, -5.55692792e-01, ...,\n",
       "          5.17348409e-01,  9.81388390e-02, -2.20608152e-02]],\n",
       "\n",
       "       [[ 5.68688035e-01,  4.65835094e-01, -5.56579471e-01, ...,\n",
       "          5.15621603e-01,  9.62632820e-02, -2.18802933e-02],\n",
       "        [ 5.62713265e-01,  4.69959885e-01, -6.63075805e-01, ...,\n",
       "          0.00000000e+00,  0.00000000e+00,  0.00000000e+00],\n",
       "        [ 5.62843144e-01,  4.69910324e-01, -6.57225311e-01, ...,\n",
       "          0.00000000e+00,  0.00000000e+00,  0.00000000e+00],\n",
       "        ...,\n",
       "        [ 5.58216095e-01,  4.76931900e-01, -5.51136315e-01, ...,\n",
       "          5.24134457e-01,  1.33422479e-01, -1.45139406e-02],\n",
       "        [ 5.58230877e-01,  4.79452670e-01, -5.33961356e-01, ...,\n",
       "          5.24812460e-01,  1.37587190e-01, -1.37000838e-02],\n",
       "        [ 5.59841037e-01,  4.79501516e-01, -5.36746800e-01, ...,\n",
       "          5.29811323e-01,  1.37502640e-01, -1.52515443e-02]],\n",
       "\n",
       "       [[ 5.59852898e-01,  4.80080932e-01, -5.29615283e-01, ...,\n",
       "          5.33506274e-01,  1.48608968e-01, -1.29179498e-02],\n",
       "        [ 5.62840819e-01,  4.48117286e-01, -5.14216781e-01, ...,\n",
       "          0.00000000e+00,  0.00000000e+00,  0.00000000e+00],\n",
       "        [ 5.65980136e-01,  4.40695256e-01, -5.20946085e-01, ...,\n",
       "          0.00000000e+00,  0.00000000e+00,  0.00000000e+00],\n",
       "        ...,\n",
       "        [ 5.72691083e-01,  4.92296398e-01, -5.52777827e-01, ...,\n",
       "          5.57380617e-01,  1.79007575e-01, -7.97051063e-04],\n",
       "        [ 5.72244287e-01,  4.94506031e-01, -5.36976933e-01, ...,\n",
       "          5.78505397e-01,  1.66143343e-01, -2.89807096e-03],\n",
       "        [ 5.72233558e-01,  4.96458054e-01, -5.13083458e-01, ...,\n",
       "          5.77340186e-01,  1.74268752e-01, -1.07699074e-02]],\n",
       "\n",
       "       ...,\n",
       "\n",
       "       [[ 7.64495492e-01,  3.72917384e-01, -6.18543923e-01, ...,\n",
       "          0.00000000e+00,  0.00000000e+00,  0.00000000e+00],\n",
       "        [ 4.48077112e-01,  3.82791609e-01, -6.21135354e-01, ...,\n",
       "          0.00000000e+00,  0.00000000e+00,  0.00000000e+00],\n",
       "        [ 4.31793034e-01,  3.89318764e-01, -7.95678794e-01, ...,\n",
       "          0.00000000e+00,  0.00000000e+00,  0.00000000e+00],\n",
       "        ...,\n",
       "        [ 4.46598858e-01,  3.95580649e-01, -4.38828140e-01, ...,\n",
       "          0.00000000e+00,  0.00000000e+00,  0.00000000e+00],\n",
       "        [ 4.46631104e-01,  3.95060539e-01, -4.38992500e-01, ...,\n",
       "          0.00000000e+00,  0.00000000e+00,  0.00000000e+00],\n",
       "        [ 4.47680533e-01,  3.93996388e-01, -4.39128339e-01, ...,\n",
       "          0.00000000e+00,  0.00000000e+00,  0.00000000e+00]],\n",
       "\n",
       "       [[ 4.50683594e-01,  3.93932134e-01, -4.39194977e-01, ...,\n",
       "          0.00000000e+00,  0.00000000e+00,  0.00000000e+00],\n",
       "        [ 5.75371921e-01,  3.78553569e-01, -5.65166175e-01, ...,\n",
       "          0.00000000e+00,  0.00000000e+00,  0.00000000e+00],\n",
       "        [ 5.79300284e-01,  3.74807894e-01, -5.78449011e-01, ...,\n",
       "          0.00000000e+00,  0.00000000e+00,  0.00000000e+00],\n",
       "        ...,\n",
       "        [ 5.86505771e-01,  3.60271454e-01, -5.72197258e-01, ...,\n",
       "          0.00000000e+00,  0.00000000e+00,  0.00000000e+00],\n",
       "        [ 5.87031007e-01,  3.60239089e-01, -5.66860795e-01, ...,\n",
       "          0.00000000e+00,  0.00000000e+00,  0.00000000e+00],\n",
       "        [ 5.87014079e-01,  3.60261321e-01, -5.65888762e-01, ...,\n",
       "          0.00000000e+00,  0.00000000e+00,  0.00000000e+00]],\n",
       "\n",
       "       [[ 5.87166190e-01,  3.60233098e-01, -5.62912524e-01, ...,\n",
       "          0.00000000e+00,  0.00000000e+00,  0.00000000e+00],\n",
       "        [ 5.87285399e-01,  3.59943777e-01, -5.62860250e-01, ...,\n",
       "          0.00000000e+00,  0.00000000e+00,  0.00000000e+00],\n",
       "        [ 5.87371647e-01,  3.59712631e-01, -5.62655389e-01, ...,\n",
       "          0.00000000e+00,  0.00000000e+00,  0.00000000e+00],\n",
       "        ...,\n",
       "        [ 7.02167392e-01,  3.64738852e-01, -6.07175171e-01, ...,\n",
       "          0.00000000e+00,  0.00000000e+00,  0.00000000e+00],\n",
       "        [ 7.01965690e-01,  3.65423083e-01, -6.06443048e-01, ...,\n",
       "          0.00000000e+00,  0.00000000e+00,  0.00000000e+00],\n",
       "        [ 7.04450190e-01,  3.65471244e-01, -6.02476358e-01, ...,\n",
       "          0.00000000e+00,  0.00000000e+00,  0.00000000e+00]]])"
      ]
     },
     "execution_count": 19,
     "metadata": {},
     "output_type": "execute_result"
    }
   ],
   "source": [
    "X_test = np.array(sequences_te)\n",
    "X_test"
   ]
  },
  {
   "cell_type": "code",
   "execution_count": 20,
   "id": "c2c16b8e",
   "metadata": {
    "scrolled": false
   },
   "outputs": [
    {
     "data": {
      "text/plain": [
       "array([[1, 0, 0, 0, 0],\n",
       "       [1, 0, 0, 0, 0],\n",
       "       [1, 0, 0, 0, 0],\n",
       "       ...,\n",
       "       [0, 0, 0, 0, 1],\n",
       "       [0, 0, 0, 0, 1],\n",
       "       [0, 0, 0, 0, 1]])"
      ]
     },
     "execution_count": 20,
     "metadata": {},
     "output_type": "execute_result"
    }
   ],
   "source": [
    "y_test = to_categorical(labels_tr).astype(int)\n",
    "y_test"
   ]
  },
  {
   "cell_type": "code",
   "execution_count": 21,
   "id": "e552421d",
   "metadata": {},
   "outputs": [],
   "source": [
    "# X_train, X_test, y_train, y_test = train_test_split(X, y, test_size=0.05) "
   ]
  },
  {
   "cell_type": "markdown",
   "id": "d887c7cd",
   "metadata": {},
   "source": [
    "# Build and Train LSTM Neural Network"
   ]
  },
  {
   "cell_type": "code",
   "execution_count": 37,
   "id": "373bb388",
   "metadata": {},
   "outputs": [],
   "source": [
    "from tensorflow.keras.models import Sequential  # Suquential NN\n",
    "from tensorflow.keras.layers import LSTM, Dense # temporal component to buld NN & fully connected layer\n",
    "from tensorflow.keras.callbacks import TensorBoard # Trace and monitor the model"
   ]
  },
  {
   "cell_type": "code",
   "execution_count": 38,
   "id": "30e57a5d",
   "metadata": {},
   "outputs": [
    {
     "name": "stdout",
     "output_type": "stream",
     "text": [
      "WARNING:tensorflow:Layer lstm_13 will not use cuDNN kernels since it doesn't meet the criteria. It will use a generic GPU kernel as fallback when running on GPU.\n",
      "WARNING:tensorflow:Layer lstm_14 will not use cuDNN kernels since it doesn't meet the criteria. It will use a generic GPU kernel as fallback when running on GPU.\n",
      "WARNING:tensorflow:Layer lstm_15 will not use cuDNN kernels since it doesn't meet the criteria. It will use a generic GPU kernel as fallback when running on GPU.\n",
      "WARNING:tensorflow:Layer lstm_16 will not use cuDNN kernels since it doesn't meet the criteria. It will use a generic GPU kernel as fallback when running on GPU.\n",
      "WARNING:tensorflow:Layer lstm_17 will not use cuDNN kernels since it doesn't meet the criteria. It will use a generic GPU kernel as fallback when running on GPU.\n"
     ]
    }
   ],
   "source": [
    "model = Sequential()\n",
    "model.add(LSTM(64, return_sequences=True, dropout = 0.25, recurrent_dropout = 0.1, activation='relu', input_shape=(30,1662))) # with hand 258\n",
    "model.add(LSTM(128, return_sequences=True, dropout = 0.25, recurrent_dropout = 0.1, activation='relu'))\n",
    "model.add(LSTM(256, return_sequences=True, dropout = 0.25, recurrent_dropout = 0.1, activation='relu'))\n",
    "model.add(LSTM(128, return_sequences=True, dropout = 0.5, recurrent_dropout = 0.1, activation='relu'))\n",
    "model.add(LSTM(64, return_sequences=False, dropout = 0.25, activation='relu')) # next is dense layer, so do not return sequences to that layer\n",
    "model.add(Dense(64, activation='relu'))\n",
    "model.add(Dense(32, activation='relu'))\n",
    "model.add(Dense(motions.shape[0], activation='softmax'))  # return 四个动作的概率 res\n",
    "model.compile(optimizer='Adam', loss='categorical_crossentropy', metrics=['categorical_accuracy'])"
   ]
  },
  {
   "cell_type": "code",
   "execution_count": 39,
   "id": "8648dbb3",
   "metadata": {},
   "outputs": [
    {
     "name": "stdout",
     "output_type": "stream",
     "text": [
      "10/10 [==============================] - 4s 143ms/step\n",
      "Prediction completes.\n"
     ]
    }
   ],
   "source": [
    "# modelGo = model()  # This is used for final testing\n",
    "from tensorflow.keras import optimizers\n",
    "optmz = optimizers.Adam(learning_rate=0.005)   \n",
    "\n",
    "predicts    = model.predict(X_test)                                         \n",
    "print(\"Prediction completes.\")"
   ]
  },
  {
   "cell_type": "code",
   "execution_count": 40,
   "id": "e73c2535",
   "metadata": {},
   "outputs": [],
   "source": [
    "from tensorflow.keras.callbacks import ModelCheckpoint,CSVLogger\n",
    "checkpoint      = ModelCheckpoint('motion_LSTM.h5', \n",
    "                                  monitor='categorical_accuracy', \n",
    "                                  verbose=0, \n",
    "                                  save_best_only=True, \n",
    "                                  mode='max')\n",
    "csv_logger      = CSVLogger('testvalidation' +'.csv')     \n",
    "callbacks_list  = [checkpoint,csv_logger]"
   ]
  },
  {
   "cell_type": "code",
   "execution_count": 41,
   "id": "f604f63a",
   "metadata": {},
   "outputs": [
    {
     "name": "stdout",
     "output_type": "stream",
     "text": [
      "Epoch 1/60\n",
      "10/10 [==============================] - 35s 2s/step - loss: 1.7831 - categorical_accuracy: 0.1900 - val_loss: 1.6061 - val_categorical_accuracy: 0.2000\n",
      "Epoch 2/60\n",
      "10/10 [==============================] - 14s 1s/step - loss: 1.6228 - categorical_accuracy: 0.1933 - val_loss: 2.5629 - val_categorical_accuracy: 0.2000\n",
      "Epoch 3/60\n",
      "10/10 [==============================] - 13s 1s/step - loss: 1.8037 - categorical_accuracy: 0.1933 - val_loss: 16.7259 - val_categorical_accuracy: 0.1867\n",
      "Epoch 4/60\n",
      "10/10 [==============================] - 16s 2s/step - loss: 2.3900 - categorical_accuracy: 0.2133 - val_loss: 3.2114 - val_categorical_accuracy: 0.2200\n",
      "Epoch 5/60\n",
      "10/10 [==============================] - 14s 1s/step - loss: 1.6408 - categorical_accuracy: 0.2000 - val_loss: 1.5934 - val_categorical_accuracy: 0.1900\n",
      "Epoch 6/60\n",
      "10/10 [==============================] - 14s 1s/step - loss: 1.6123 - categorical_accuracy: 0.1900 - val_loss: 1.6065 - val_categorical_accuracy: 0.2067\n",
      "Epoch 7/60\n",
      "10/10 [==============================] - 14s 1s/step - loss: 1.6064 - categorical_accuracy: 0.1900 - val_loss: 1.5844 - val_categorical_accuracy: 0.1900\n",
      "Epoch 8/60\n",
      "10/10 [==============================] - 13s 1s/step - loss: 1.6090 - categorical_accuracy: 0.1933 - val_loss: 1.5731 - val_categorical_accuracy: 0.2033\n",
      "Epoch 9/60\n",
      "10/10 [==============================] - 14s 1s/step - loss: 1.5990 - categorical_accuracy: 0.2000 - val_loss: 1.5318 - val_categorical_accuracy: 0.2000\n",
      "Epoch 10/60\n",
      "10/10 [==============================] - 15s 2s/step - loss: 1.5641 - categorical_accuracy: 0.2367 - val_loss: 1.5180 - val_categorical_accuracy: 0.2133\n",
      "Epoch 11/60\n",
      "10/10 [==============================] - 14s 1s/step - loss: 1.5707 - categorical_accuracy: 0.3133 - val_loss: 1.6128 - val_categorical_accuracy: 0.2000\n",
      "Epoch 12/60\n",
      "10/10 [==============================] - 14s 1s/step - loss: 1.6130 - categorical_accuracy: 0.2000 - val_loss: 1.6124 - val_categorical_accuracy: 0.2000\n",
      "Epoch 13/60\n",
      "10/10 [==============================] - 13s 1s/step - loss: 1.6123 - categorical_accuracy: 0.2000 - val_loss: 1.6116 - val_categorical_accuracy: 0.2000\n",
      "Epoch 14/60\n",
      "10/10 [==============================] - 10s 977ms/step - loss: 1.6114 - categorical_accuracy: 0.2000 - val_loss: 1.6110 - val_categorical_accuracy: 0.2000\n",
      "Epoch 15/60\n",
      "10/10 [==============================] - 10s 975ms/step - loss: 1.6105 - categorical_accuracy: 0.2000 - val_loss: 1.6102 - val_categorical_accuracy: 0.2000\n",
      "Epoch 16/60\n",
      "10/10 [==============================] - 10s 1s/step - loss: 1.6099 - categorical_accuracy: 0.2000 - val_loss: 1.6097 - val_categorical_accuracy: 0.2000\n",
      "Epoch 17/60\n",
      "10/10 [==============================] - 10s 1s/step - loss: 1.6097 - categorical_accuracy: 0.2000 - val_loss: 1.6093 - val_categorical_accuracy: 0.2000\n",
      "Epoch 18/60\n",
      "10/10 [==============================] - 10s 1s/step - loss: 1.6094 - categorical_accuracy: 0.2000 - val_loss: 1.6090 - val_categorical_accuracy: 0.2000\n",
      "Epoch 19/60\n",
      "10/10 [==============================] - 10s 1s/step - loss: 1.6090 - categorical_accuracy: 0.2000 - val_loss: 1.6086 - val_categorical_accuracy: 0.2000\n",
      "Epoch 20/60\n",
      "10/10 [==============================] - 10s 1s/step - loss: 1.6084 - categorical_accuracy: 0.2000 - val_loss: 1.6084 - val_categorical_accuracy: 0.2000\n",
      "Epoch 21/60\n",
      "10/10 [==============================] - 10s 1s/step - loss: 1.6074 - categorical_accuracy: 0.2067 - val_loss: 1.6070 - val_categorical_accuracy: 0.2000\n",
      "Epoch 22/60\n",
      "10/10 [==============================] - 11s 1s/step - loss: 1.6069 - categorical_accuracy: 0.2067 - val_loss: 1.6060 - val_categorical_accuracy: 0.2000\n",
      "Epoch 23/60\n",
      "10/10 [==============================] - 10s 1s/step - loss: 1.6056 - categorical_accuracy: 0.2100 - val_loss: 1.6044 - val_categorical_accuracy: 0.2000\n",
      "Epoch 24/60\n",
      "10/10 [==============================] - 12s 1s/step - loss: 1.6038 - categorical_accuracy: 0.2367 - val_loss: 1.6008 - val_categorical_accuracy: 0.2100\n",
      "Epoch 25/60\n",
      "10/10 [==============================] - 14s 1s/step - loss: 1.5993 - categorical_accuracy: 0.2167 - val_loss: 1.5943 - val_categorical_accuracy: 0.2100\n",
      "Epoch 26/60\n",
      "10/10 [==============================] - 14s 1s/step - loss: 1.5847 - categorical_accuracy: 0.2133 - val_loss: 1.5360 - val_categorical_accuracy: 0.3800\n",
      "Epoch 27/60\n",
      "10/10 [==============================] - 14s 1s/step - loss: 1.7684 - categorical_accuracy: 0.3233 - val_loss: 5.1048 - val_categorical_accuracy: 0.2000\n",
      "Epoch 28/60\n",
      "10/10 [==============================] - 14s 1s/step - loss: 1.7175 - categorical_accuracy: 0.2167 - val_loss: 1.7045 - val_categorical_accuracy: 0.2000\n",
      "Epoch 29/60\n",
      "10/10 [==============================] - 14s 1s/step - loss: 1.6541 - categorical_accuracy: 0.1900 - val_loss: 1.6195 - val_categorical_accuracy: 0.2133\n",
      "Epoch 30/60\n",
      "10/10 [==============================] - 14s 1s/step - loss: 1.6732 - categorical_accuracy: 0.2367 - val_loss: 1.6184 - val_categorical_accuracy: 0.1867\n",
      "Epoch 31/60\n",
      "10/10 [==============================] - 14s 1s/step - loss: 1.6125 - categorical_accuracy: 0.1633 - val_loss: 1.6120 - val_categorical_accuracy: 0.2000\n",
      "Epoch 32/60\n",
      "10/10 [==============================] - 14s 1s/step - loss: 1.6100 - categorical_accuracy: 0.1967 - val_loss: 1.6113 - val_categorical_accuracy: 0.2000\n",
      "Epoch 33/60\n",
      "10/10 [==============================] - 13s 1s/step - loss: 1.6093 - categorical_accuracy: 0.1967 - val_loss: 1.6101 - val_categorical_accuracy: 0.2000\n",
      "Epoch 34/60\n",
      "10/10 [==============================] - 14s 1s/step - loss: 1.6062 - categorical_accuracy: 0.2267 - val_loss: 1.6083 - val_categorical_accuracy: 0.1967\n",
      "Epoch 35/60\n",
      "10/10 [==============================] - 14s 1s/step - loss: 1.6052 - categorical_accuracy: 0.2500 - val_loss: 1.6042 - val_categorical_accuracy: 0.2600\n",
      "Epoch 36/60\n",
      "10/10 [==============================] - 14s 1s/step - loss: 1.5985 - categorical_accuracy: 0.2300 - val_loss: 1.5782 - val_categorical_accuracy: 0.1800\n",
      "Epoch 37/60\n",
      "10/10 [==============================] - 14s 1s/step - loss: 1.5951 - categorical_accuracy: 0.2500 - val_loss: 1.6077 - val_categorical_accuracy: 0.1033\n",
      "Epoch 38/60\n",
      "10/10 [==============================] - 14s 1s/step - loss: 1.6004 - categorical_accuracy: 0.1933 - val_loss: 1.5991 - val_categorical_accuracy: 0.2000\n",
      "Epoch 39/60\n",
      "10/10 [==============================] - 14s 1s/step - loss: 1.5920 - categorical_accuracy: 0.3167 - val_loss: 1.5857 - val_categorical_accuracy: 0.3867\n",
      "Epoch 40/60\n",
      "10/10 [==============================] - 14s 1s/step - loss: 1.5733 - categorical_accuracy: 0.3500 - val_loss: 1.5467 - val_categorical_accuracy: 0.3800\n",
      "Epoch 41/60\n",
      "10/10 [==============================] - 14s 1s/step - loss: 1.5009 - categorical_accuracy: 0.3300 - val_loss: 1.5362 - val_categorical_accuracy: 0.3067\n",
      "Epoch 42/60\n",
      "10/10 [==============================] - 14s 1s/step - loss: 1.5119 - categorical_accuracy: 0.2833 - val_loss: 1.4487 - val_categorical_accuracy: 0.3667\n",
      "Epoch 43/60\n",
      "10/10 [==============================] - 14s 1s/step - loss: 1.3556 - categorical_accuracy: 0.4300 - val_loss: 1.2819 - val_categorical_accuracy: 0.4867\n",
      "Epoch 44/60\n",
      "10/10 [==============================] - 14s 1s/step - loss: 1.2023 - categorical_accuracy: 0.4800 - val_loss: 1.4493 - val_categorical_accuracy: 0.2533\n",
      "Epoch 45/60\n",
      "10/10 [==============================] - 14s 1s/step - loss: 1.4137 - categorical_accuracy: 0.3467 - val_loss: 1.7437 - val_categorical_accuracy: 0.2000\n",
      "Epoch 46/60\n",
      "10/10 [==============================] - 14s 1s/step - loss: 1.6413 - categorical_accuracy: 0.2000 - val_loss: 1.4677 - val_categorical_accuracy: 0.2833\n",
      "Epoch 47/60\n",
      "10/10 [==============================] - 13s 1s/step - loss: 1.3402 - categorical_accuracy: 0.4133 - val_loss: 1.2567 - val_categorical_accuracy: 0.3933\n",
      "Epoch 48/60\n",
      "10/10 [==============================] - 14s 1s/step - loss: 1.1519 - categorical_accuracy: 0.5600 - val_loss: 1.1923 - val_categorical_accuracy: 0.5733\n",
      "Epoch 49/60\n",
      "10/10 [==============================] - 14s 1s/step - loss: 1.0710 - categorical_accuracy: 0.5500 - val_loss: 1.1135 - val_categorical_accuracy: 0.4833\n",
      "Epoch 50/60\n",
      "10/10 [==============================] - 14s 1s/step - loss: 1.0557 - categorical_accuracy: 0.5567 - val_loss: 0.9388 - val_categorical_accuracy: 0.5533\n"
     ]
    },
    {
     "name": "stdout",
     "output_type": "stream",
     "text": [
      "Epoch 51/60\n",
      "10/10 [==============================] - 14s 1s/step - loss: 0.9748 - categorical_accuracy: 0.5767 - val_loss: 0.9286 - val_categorical_accuracy: 0.5133\n",
      "Epoch 52/60\n",
      "10/10 [==============================] - 14s 1s/step - loss: 0.9105 - categorical_accuracy: 0.5667 - val_loss: 0.8753 - val_categorical_accuracy: 0.6267\n",
      "Epoch 53/60\n",
      "10/10 [==============================] - 14s 1s/step - loss: 0.8032 - categorical_accuracy: 0.6400 - val_loss: 0.8132 - val_categorical_accuracy: 0.5967\n",
      "Epoch 54/60\n",
      "10/10 [==============================] - 14s 1s/step - loss: 0.7574 - categorical_accuracy: 0.6367 - val_loss: 0.7178 - val_categorical_accuracy: 0.6500\n",
      "Epoch 55/60\n",
      "10/10 [==============================] - 14s 1s/step - loss: 0.8079 - categorical_accuracy: 0.6267 - val_loss: 0.7276 - val_categorical_accuracy: 0.6433\n",
      "Epoch 56/60\n",
      "10/10 [==============================] - 13s 1s/step - loss: 0.6719 - categorical_accuracy: 0.6533 - val_loss: 0.6847 - val_categorical_accuracy: 0.6900\n",
      "Epoch 57/60\n",
      "10/10 [==============================] - 15s 1s/step - loss: 0.6607 - categorical_accuracy: 0.6933 - val_loss: 0.6735 - val_categorical_accuracy: 0.6867\n",
      "Epoch 58/60\n",
      "10/10 [==============================] - 14s 1s/step - loss: 0.6670 - categorical_accuracy: 0.6767 - val_loss: 0.6809 - val_categorical_accuracy: 0.6900\n",
      "Epoch 59/60\n",
      "10/10 [==============================] - 14s 1s/step - loss: 0.9123 - categorical_accuracy: 0.6100 - val_loss: 0.6964 - val_categorical_accuracy: 0.6800\n",
      "Epoch 60/60\n",
      "10/10 [==============================] - 13s 1s/step - loss: 0.7392 - categorical_accuracy: 0.6767 - val_loss: 0.7763 - val_categorical_accuracy: 0.6800\n"
     ]
    },
    {
     "data": {
      "text/plain": [
       "<keras.callbacks.History at 0x26f856162e0>"
      ]
     },
     "execution_count": 41,
     "metadata": {},
     "output_type": "execute_result"
    }
   ],
   "source": [
    "model.fit(X_train, y_train, validation_data=(X_test, y_test), validation_freq=1, epochs=60, callbacks= callbacks_list) #callbacks=[tb_callback]) "
   ]
  },
  {
   "cell_type": "code",
   "execution_count": 42,
   "id": "593eb7c5",
   "metadata": {},
   "outputs": [
    {
     "name": "stdout",
     "output_type": "stream",
     "text": [
      "Model: \"sequential_3\"\n",
      "_________________________________________________________________\n",
      " Layer (type)                Output Shape              Param #   \n",
      "=================================================================\n",
      " lstm_13 (LSTM)              (None, 30, 64)            442112    \n",
      "                                                                 \n",
      " lstm_14 (LSTM)              (None, 30, 128)           98816     \n",
      "                                                                 \n",
      " lstm_15 (LSTM)              (None, 30, 256)           394240    \n",
      "                                                                 \n",
      " lstm_16 (LSTM)              (None, 30, 128)           197120    \n",
      "                                                                 \n",
      " lstm_17 (LSTM)              (None, 64)                49408     \n",
      "                                                                 \n",
      " dense_9 (Dense)             (None, 64)                4160      \n",
      "                                                                 \n",
      " dense_10 (Dense)            (None, 32)                2080      \n",
      "                                                                 \n",
      " dense_11 (Dense)            (None, 5)                 165       \n",
      "                                                                 \n",
      "=================================================================\n",
      "Total params: 1,188,101\n",
      "Trainable params: 1,188,101\n",
      "Non-trainable params: 0\n",
      "_________________________________________________________________\n"
     ]
    }
   ],
   "source": [
    "model.summary()"
   ]
  },
  {
   "cell_type": "markdown",
   "id": "866fc678",
   "metadata": {},
   "source": [
    "# Validation"
   ]
  },
  {
   "cell_type": "code",
   "execution_count": 43,
   "id": "c14b0691",
   "metadata": {},
   "outputs": [
    {
     "name": "stdout",
     "output_type": "stream",
     "text": [
      "10/10 [==============================] - 1s 120ms/step\n"
     ]
    }
   ],
   "source": [
    "res = model.predict(X_test)"
   ]
  },
  {
   "cell_type": "code",
   "execution_count": 44,
   "id": "4e14bd36",
   "metadata": {},
   "outputs": [
    {
     "data": {
      "text/plain": [
       "'No_action'"
      ]
     },
     "execution_count": 44,
     "metadata": {},
     "output_type": "execute_result"
    }
   ],
   "source": [
    "motions[np.argmax(res[4])]"
   ]
  },
  {
   "cell_type": "code",
   "execution_count": 45,
   "id": "74f78cf4",
   "metadata": {},
   "outputs": [
    {
     "data": {
      "text/plain": [
       "'Left_punch'"
      ]
     },
     "execution_count": 45,
     "metadata": {},
     "output_type": "execute_result"
    }
   ],
   "source": [
    "motions[np.argmax(y_test[4])] # 这里就是测验X_test预测的值和y_test值是否一致"
   ]
  },
  {
   "cell_type": "markdown",
   "id": "afe84523",
   "metadata": {},
   "source": [
    "# Evaluation using Confusion Matrix and Accuracy"
   ]
  },
  {
   "cell_type": "code",
   "execution_count": 46,
   "id": "2582bb99",
   "metadata": {},
   "outputs": [],
   "source": [
    "from sklearn.metrics import multilabel_confusion_matrix, accuracy_score"
   ]
  },
  {
   "cell_type": "code",
   "execution_count": 47,
   "id": "ab75d0f7",
   "metadata": {},
   "outputs": [
    {
     "name": "stdout",
     "output_type": "stream",
     "text": [
      "10/10 [==============================] - 1s 140ms/step\n"
     ]
    }
   ],
   "source": [
    "yhat = model.predict(X_test)"
   ]
  },
  {
   "cell_type": "code",
   "execution_count": 48,
   "id": "15b4d3cb",
   "metadata": {},
   "outputs": [],
   "source": [
    "ytrue = np.argmax(y_test, axis=1).tolist()\n",
    "yhat = np.argmax(yhat, axis=1).tolist()"
   ]
  },
  {
   "cell_type": "code",
   "execution_count": 49,
   "id": "10f76f07",
   "metadata": {},
   "outputs": [
    {
     "data": {
      "text/plain": [
       "array([[[236,   4],\n",
       "        [ 55,   5]],\n",
       "\n",
       "       [[240,   0],\n",
       "        [  9,  51]],\n",
       "\n",
       "       [[235,   5],\n",
       "        [ 32,  28]],\n",
       "\n",
       "       [[162,  78],\n",
       "        [  0,  60]],\n",
       "\n",
       "       [[231,   9],\n",
       "        [  0,  60]]], dtype=int64)"
      ]
     },
     "execution_count": 49,
     "metadata": {},
     "output_type": "execute_result"
    }
   ],
   "source": [
    "multilabel_confusion_matrix(ytrue, yhat)"
   ]
  },
  {
   "cell_type": "code",
   "execution_count": 50,
   "id": "1065369c",
   "metadata": {},
   "outputs": [
    {
     "data": {
      "text/plain": [
       "0.68"
      ]
     },
     "execution_count": 50,
     "metadata": {},
     "output_type": "execute_result"
    }
   ],
   "source": [
    "accuracy_score(ytrue, yhat)"
   ]
  },
  {
   "cell_type": "code",
   "execution_count": 51,
   "id": "f4a61c6d",
   "metadata": {},
   "outputs": [
    {
     "name": "stdout",
     "output_type": "stream",
     "text": [
      "Best accuracy (on testing dataset): 68.00%\n"
     ]
    }
   ],
   "source": [
    "import sklearn.metrics as metrics\n",
    "\n",
    "testScores  = metrics.accuracy_score(ytrue,yhat)\n",
    "\n",
    "print(\"Best accuracy (on testing dataset): %.2f%%\" % (testScores*100))\n",
    "\n",
    "labelname = ['Left_punch', 'Right_punch', 'Wakanda', 'Kiss', 'No_action']\n",
    "\n",
    "# print(metrics.classification_report(ytrue,\n",
    "#                                     yhat,\n",
    "#                                     target_names=labelname,\n",
    "#                                     digits=4))"
   ]
  },
  {
   "cell_type": "code",
   "execution_count": 52,
   "id": "a3153555",
   "metadata": {},
   "outputs": [
    {
     "name": "stdout",
     "output_type": "stream",
     "text": [
      "[[ 5  0  4 50  1]\n",
      " [ 0 51  1  0  8]\n",
      " [ 4  0 28 28  0]\n",
      " [ 0  0  0 60  0]\n",
      " [ 0  0  0  0 60]]\n"
     ]
    }
   ],
   "source": [
    "confusion   = metrics.confusion_matrix(ytrue,yhat)\n",
    "print(confusion)"
   ]
  },
  {
   "cell_type": "markdown",
   "id": "94c9db67",
   "metadata": {},
   "source": [
    "# Save Weights"
   ]
  },
  {
   "cell_type": "code",
   "execution_count": 53,
   "id": "c8353a32",
   "metadata": {},
   "outputs": [],
   "source": [
    "model.save('motion_LSTM.h5') # 保存train好的model"
   ]
  },
  {
   "cell_type": "code",
   "execution_count": 54,
   "id": "0d08d1df",
   "metadata": {},
   "outputs": [],
   "source": [
    "model.load_weights('motion_LSTM.h5')"
   ]
  },
  {
   "cell_type": "markdown",
   "id": "16546f26",
   "metadata": {},
   "source": [
    "# Plot curves on Validation loss and accuracy"
   ]
  },
  {
   "cell_type": "code",
   "execution_count": 55,
   "id": "7c019e36",
   "metadata": {},
   "outputs": [
    {
     "data": {
      "image/png": "[encoded data removed]",
      "text/plain": [
       "<Figure size 432x288 with 2 Axes>"
      ]
     },
     "metadata": {
      "needs_background": "light"
     },
     "output_type": "display_data"
    }
   ],
   "source": [
    "import pandas as pd\n",
    "\n",
    "records     = pd.read_csv('testvalidation' +'.csv')\n",
    "plt.figure()\n",
    "plt.subplot(211)\n",
    "plt.plot(records['val_loss'], label=\"validation\")\n",
    "plt.plot(records['loss'],label=\"training\")\n",
    "plt.yticks([0.00,0.50,1.00,1.50])\n",
    "plt.title('Loss value',fontsize=12)\n",
    "\n",
    "ax          = plt.gca()\n",
    "ax.set_xticklabels([])\n",
    "\n",
    "plt.subplot(212)\n",
    "plt.plot(records['val_categorical_accuracy'],label=\"validation\")\n",
    "plt.plot(records['categorical_accuracy'],label=\"training\")\n",
    "plt.yticks([0.5,0.6,0.7,0.8,0.9,1.0])\n",
    "plt.title('Accuracy',fontsize=12)\n",
    "ax.legend()\n",
    "plt.show()"
   ]
  },
  {
   "cell_type": "code",
   "execution_count": null,
   "id": "17e66320",
   "metadata": {},
   "outputs": [],
   "source": []
  },
  {
   "cell_type": "code",
   "execution_count": null,
   "id": "cf4065c8",
   "metadata": {},
   "outputs": [],
   "source": []
  },
  {
   "cell_type": "code",
   "execution_count": null,
   "id": "d594ba76",
   "metadata": {},
   "outputs": [],
   "source": []
  },
  {
   "cell_type": "code",
   "execution_count": null,
   "id": "ae70f3fb",
   "metadata": {},
   "outputs": [],
   "source": []
  }
 ],
 "metadata": {
  "kernelspec": {
   "display_name": "Python 3 (ipykernel)",
   "language": "python",
   "name": "python3"
  },
  "language_info": {
   "codemirror_mode": {
    "name": "ipython",
    "version": 3
   },
   "file_extension": ".py",
   "mimetype": "text/x-python",
   "name": "python",
   "nbconvert_exporter": "python",
   "pygments_lexer": "ipython3",
   "version": "3.9.7"
  }
 },
 "nbformat": 4,
 "nbformat_minor": 5
}
